{
 "cells": [
  {
   "cell_type": "markdown",
   "metadata": {},
   "source": [
    "# Everyone Eats - _A Food Illness Analysis_"
   ]
  },
  {
   "cell_type": "markdown",
   "metadata": {},
   "source": [
    "\n",
    "## CMSC320 Final Project\n",
    "### Authors: Andy Zhang, Michael Liu, Lucian Lum\n",
    "\n",
    "<img src=\"files/Food-safety-infographic-thumbnail.jpg\">"
   ]
  },
  {
   "cell_type": "markdown",
   "metadata": {},
   "source": [
    "## Introduction\n",
    "\n",
    "Everyone eats, especially when they travel! But just how safe is your food? This is a tutorial on some simple ways to collect and analyze data on food related illnesses across the United States (and territories). Afterwards, you will learn how to process the data and visualize it clearly. By analyzing the patterns, we will draw conclusions based on them. \n",
    "\n",
    "The goal of this tutorial is to show how often food related illnesses occur in each state and reveal the underlying trends.\n"
   ]
  },
  {
   "cell_type": "markdown",
   "metadata": {},
   "source": [
    "## Getting Started\n",
    "\n",
    "First, we need to download the datasets from the Centers for Disease Controll and Prevention (CDC) and the United States Census Bureau\n",
    "\n",
    "Foodbourne Outbreak Online Database:\n",
    "https://wwwn.cdc.gov/foodborneoutbreaks/\n",
    "\n",
    "(The US Census has two separate tables)\n",
    "\n",
    "US Census from 2000-2010\n",
    "https://census.gov/data/tables/time-series/demo/popest/intercensal-2000-2010-state.html\n",
    "\n",
    "Us Census from 2010-2016\n",
    "https://www.census.gov/data/tables/2016/demo/popest/state-total.html#tables\n",
    "\n",
    "These datasets will be in xlsx(excel) format. As a result, the first thing we need to do is convert the excel files to CSV (comma-separated values file). To do this, you just need to export the file into a CSV file and save it. (You don't have to convert it into a CSV file, we just prefer working with them).\n",
    "\n",
    "Now that you have your CSV files, the next step is to load the file into a form that we can manipulate using python.\n",
    "\n",
    "To do this we will use the pandas library.\n",
    "\n",
    "For more information on Pandas, please check 'Closing and Sources'"
   ]
  },
  {
   "cell_type": "markdown",
   "metadata": {},
   "source": [
    "<a id='toC'></a>\n",
    "\n",
    "<b><font size=\"5\" color=\"black\">Table of Contents</font></b>\n",
    "<ul type=\"1\">\n",
    "    <li><a href='#Installing_Libraries'>Installing Libraries</a></li>\n",
    "    <li><a href='#load_data'>Loading and Organizing the Data</a></li>\n",
    "    <li><a href='#etiology'>Etiology Status Analysis</a></li>\n",
    "    <li><a href='#normal'>Normalizing the Data</a></li>\n",
    "    <li><a href='#choropleth'>Choropleth Map</a></li>\n",
    "    <li><a href='#conclusion'>Conclusion</a></li>\n",
    "    <li><a href='#sources'>Closing and Sources</a></li>\n",
    "</ul>\n"
   ]
  },
  {
   "cell_type": "markdown",
   "metadata": {},
   "source": [
    "<a id='Installing_Libraries'></a>\n",
    "## Installing Libraries\n",
    "\n",
    "This project is written in Python 3, so make sure you have that installed\n",
    "\n",
    "We will also use some basic python libraries:\n",
    "<ul style=\"list-style-type:none\">\n",
    "  <ul style=\"list-style-type:circle\">\n",
    "      <li>pandas - \\$ pip install pandas</li>\n",
    "      <li>numpy - \\$ pip install numpy</li>\n",
    "      <li>folium - \\$ pip install folium</li>\n",
    "      <li>scikit-learn - \\$ pip install scikit-learn</li>\n",
    "  </ul>\n",
    "</ul>"
   ]
  },
  {
   "cell_type": "markdown",
   "metadata": {},
   "source": [
    "<font size=\"3\"><a href='#toC'>To Table of Contents</a></font>"
   ]
  },
  {
   "cell_type": "markdown",
   "metadata": {},
   "source": [
    "<a id='load_data'></a>\n",
    "## Loading and Organizing the Data"
   ]
  },
  {
   "cell_type": "code",
   "execution_count": 478,
   "metadata": {},
   "outputs": [],
   "source": [
    "import pandas as pd\n",
    "\n",
    "# load the data into dataframes\n",
    "# food illness data\n",
    "food = pd.read_csv(\"FoodData.csv\")\n",
    "# 2000-2009 census data\n",
    "table2000 = pd.read_csv(\"2000.csv\")\n",
    "# 2010-2016 census data\n",
    "table2010 = pd.read_csv(\"2010.csv\")"
   ]
  },
  {
   "cell_type": "code",
   "execution_count": 479,
   "metadata": {},
   "outputs": [
    {
     "data": {
      "text/html": [
       "<div>\n",
       "<table border=\"1\" class=\"dataframe\">\n",
       "  <thead>\n",
       "    <tr style=\"text-align: right;\">\n",
       "      <th></th>\n",
       "      <th>Year</th>\n",
       "      <th>Month</th>\n",
       "      <th>Illnesses</th>\n",
       "      <th>Hospitalizations</th>\n",
       "      <th>Deaths</th>\n",
       "    </tr>\n",
       "  </thead>\n",
       "  <tbody>\n",
       "    <tr>\n",
       "      <th>count</th>\n",
       "      <td>16968.000000</td>\n",
       "      <td>16968.000000</td>\n",
       "      <td>16968.000000</td>\n",
       "      <td>14285.000000</td>\n",
       "      <td>14302.000000</td>\n",
       "    </tr>\n",
       "    <tr>\n",
       "      <th>mean</th>\n",
       "      <td>2007.114333</td>\n",
       "      <td>6.386728</td>\n",
       "      <td>18.437294</td>\n",
       "      <td>0.705495</td>\n",
       "      <td>0.012865</td>\n",
       "    </tr>\n",
       "    <tr>\n",
       "      <th>std</th>\n",
       "      <td>4.937221</td>\n",
       "      <td>3.453812</td>\n",
       "      <td>42.685308</td>\n",
       "      <td>2.467686</td>\n",
       "      <td>0.163785</td>\n",
       "    </tr>\n",
       "    <tr>\n",
       "      <th>min</th>\n",
       "      <td>2000.000000</td>\n",
       "      <td>1.000000</td>\n",
       "      <td>2.000000</td>\n",
       "      <td>0.000000</td>\n",
       "      <td>0.000000</td>\n",
       "    </tr>\n",
       "    <tr>\n",
       "      <th>25%</th>\n",
       "      <td>2003.000000</td>\n",
       "      <td>3.000000</td>\n",
       "      <td>3.000000</td>\n",
       "      <td>0.000000</td>\n",
       "      <td>0.000000</td>\n",
       "    </tr>\n",
       "    <tr>\n",
       "      <th>50%</th>\n",
       "      <td>2006.000000</td>\n",
       "      <td>6.000000</td>\n",
       "      <td>8.000000</td>\n",
       "      <td>0.000000</td>\n",
       "      <td>0.000000</td>\n",
       "    </tr>\n",
       "    <tr>\n",
       "      <th>75%</th>\n",
       "      <td>2011.000000</td>\n",
       "      <td>9.000000</td>\n",
       "      <td>19.000000</td>\n",
       "      <td>1.000000</td>\n",
       "      <td>0.000000</td>\n",
       "    </tr>\n",
       "    <tr>\n",
       "      <th>max</th>\n",
       "      <td>2016.000000</td>\n",
       "      <td>12.000000</td>\n",
       "      <td>1644.000000</td>\n",
       "      <td>71.000000</td>\n",
       "      <td>7.000000</td>\n",
       "    </tr>\n",
       "  </tbody>\n",
       "</table>\n",
       "</div>"
      ],
      "text/plain": [
       "               Year         Month     Illnesses  Hospitalizations  \\\n",
       "count  16968.000000  16968.000000  16968.000000      14285.000000   \n",
       "mean    2007.114333      6.386728     18.437294          0.705495   \n",
       "std        4.937221      3.453812     42.685308          2.467686   \n",
       "min     2000.000000      1.000000      2.000000          0.000000   \n",
       "25%     2003.000000      3.000000      3.000000          0.000000   \n",
       "50%     2006.000000      6.000000      8.000000          0.000000   \n",
       "75%     2011.000000      9.000000     19.000000          1.000000   \n",
       "max     2016.000000     12.000000   1644.000000         71.000000   \n",
       "\n",
       "             Deaths  \n",
       "count  14302.000000  \n",
       "mean       0.012865  \n",
       "std        0.163785  \n",
       "min        0.000000  \n",
       "25%        0.000000  \n",
       "50%        0.000000  \n",
       "75%        0.000000  \n",
       "max        7.000000  "
      ]
     },
     "metadata": {},
     "output_type": "display_data"
    },
    {
     "data": {
      "text/html": [
       "<div>\n",
       "<table border=\"1\" class=\"dataframe\">\n",
       "  <thead>\n",
       "    <tr style=\"text-align: right;\">\n",
       "      <th></th>\n",
       "      <th>Year</th>\n",
       "      <th>Month</th>\n",
       "      <th>Illnesses</th>\n",
       "      <th>Hospitalizations</th>\n",
       "      <th>Deaths</th>\n",
       "    </tr>\n",
       "  </thead>\n",
       "  <tbody>\n",
       "    <tr>\n",
       "      <th>count</th>\n",
       "      <td>9128.000000</td>\n",
       "      <td>9128.000000</td>\n",
       "      <td>9128.000000</td>\n",
       "      <td>9128.000000</td>\n",
       "      <td>9128.000000</td>\n",
       "    </tr>\n",
       "    <tr>\n",
       "      <th>mean</th>\n",
       "      <td>2008.005587</td>\n",
       "      <td>6.482143</td>\n",
       "      <td>21.157975</td>\n",
       "      <td>0.881135</td>\n",
       "      <td>0.014899</td>\n",
       "    </tr>\n",
       "    <tr>\n",
       "      <th>std</th>\n",
       "      <td>4.907501</td>\n",
       "      <td>3.430493</td>\n",
       "      <td>44.829898</td>\n",
       "      <td>2.833343</td>\n",
       "      <td>0.165494</td>\n",
       "    </tr>\n",
       "    <tr>\n",
       "      <th>min</th>\n",
       "      <td>2000.000000</td>\n",
       "      <td>1.000000</td>\n",
       "      <td>2.000000</td>\n",
       "      <td>0.000000</td>\n",
       "      <td>0.000000</td>\n",
       "    </tr>\n",
       "    <tr>\n",
       "      <th>25%</th>\n",
       "      <td>2004.000000</td>\n",
       "      <td>4.000000</td>\n",
       "      <td>4.000000</td>\n",
       "      <td>0.000000</td>\n",
       "      <td>0.000000</td>\n",
       "    </tr>\n",
       "    <tr>\n",
       "      <th>50%</th>\n",
       "      <td>2007.000000</td>\n",
       "      <td>6.000000</td>\n",
       "      <td>10.000000</td>\n",
       "      <td>0.000000</td>\n",
       "      <td>0.000000</td>\n",
       "    </tr>\n",
       "    <tr>\n",
       "      <th>75%</th>\n",
       "      <td>2013.000000</td>\n",
       "      <td>9.000000</td>\n",
       "      <td>22.000000</td>\n",
       "      <td>1.000000</td>\n",
       "      <td>0.000000</td>\n",
       "    </tr>\n",
       "    <tr>\n",
       "      <th>max</th>\n",
       "      <td>2016.000000</td>\n",
       "      <td>12.000000</td>\n",
       "      <td>1644.000000</td>\n",
       "      <td>71.000000</td>\n",
       "      <td>6.000000</td>\n",
       "    </tr>\n",
       "  </tbody>\n",
       "</table>\n",
       "</div>"
      ],
      "text/plain": [
       "              Year        Month    Illnesses  Hospitalizations       Deaths\n",
       "count  9128.000000  9128.000000  9128.000000       9128.000000  9128.000000\n",
       "mean   2008.005587     6.482143    21.157975          0.881135     0.014899\n",
       "std       4.907501     3.430493    44.829898          2.833343     0.165494\n",
       "min    2000.000000     1.000000     2.000000          0.000000     0.000000\n",
       "25%    2004.000000     4.000000     4.000000          0.000000     0.000000\n",
       "50%    2007.000000     6.000000    10.000000          0.000000     0.000000\n",
       "75%    2013.000000     9.000000    22.000000          1.000000     0.000000\n",
       "max    2016.000000    12.000000  1644.000000         71.000000     6.000000"
      ]
     },
     "metadata": {},
     "output_type": "display_data"
    }
   ],
   "source": [
    "# remove data that we will not be using\n",
    "# del food['Genus Species']\n",
    "# del food['Etiology Status']\n",
    "del food['Contaminated Ingredient']\n",
    "del food['Serotype or Genotype']\n",
    "del food['Food Vehicle']\n",
    "\n",
    "# delete unnecessary areas\n",
    "food = food[food.State != 'Multistate']\n",
    "food = food[food.State != 'Republic of Palau']\n",
    "food = food[food.State != 'Guam']\n",
    "\n",
    "# since we are using the census since 2000, we will remove the data in years 1998 and 1999\n",
    "food = food[food.Year != 1998]\n",
    "food = food[food.Year != 1999]\n",
    "\n",
    "# shows the stats of data before dropping rows with missing data\n",
    "display(food.describe())\n",
    "\n",
    "# drop rows with missing data\n",
    "food = food.dropna(how='any')\n",
    "\n",
    "# drop rows with inputs that isn't 'confirmed' or 'suspected'\n",
    "food = food.loc[food['Etiology Status'].isin(['Confirmed','Suspected'])]\n",
    "        \n",
    "# organize the data by state, year, month\n",
    "food = food.sort_values(['State','Year','Month'])\n",
    "\n",
    "# shows the stats of data after dropping rows with missing data\n",
    "display(food.describe())"
   ]
  },
  {
   "cell_type": "markdown",
   "metadata": {},
   "source": [
    "The purpose of showing the details of the dataframe before and after dropping rows with missing data is to show that this action is justifiable.\n",
    "\n",
    "We notice these changes in the data:\n",
    "<ol type=\"1\">\n",
    "  <li>The mean years of the data increases after dropping the data\n",
    "      <ul type=\"1\">\n",
    "          <li>The month is not as significant as the years</li>\n",
    "      </ul></li>\n",
    "  <li>The mean and standard deviation of illnesses increased</li>\n",
    "  <li>The mean and standard deviation of hospitalizations incrased</li>\n",
    "  <li>The mean of deaths increased, while the standard deviaion of deaths decreased</li>\n",
    "</ol>\n",
    "\n",
    "We believe that in the start of the 21rst century, data was not properly recorded compared to later years, resulting in a higher \"year\" average.\n",
    "\n",
    "The changes in illnesses, hospitalizations, and deaths are small and not as significant\n",
    "\n",
    "Based on these changes, we believe that taking out the rows in data with missing values is justifiable."
   ]
  },
  {
   "cell_type": "markdown",
   "metadata": {},
   "source": [
    "Since we have two dataframes of the US Census, we will need to merge them together."
   ]
  },
  {
   "cell_type": "code",
   "execution_count": 480,
   "metadata": {
    "scrolled": true
   },
   "outputs": [
    {
     "data": {
      "text/html": [
       "<div>\n",
       "<table border=\"1\" class=\"dataframe\">\n",
       "  <thead>\n",
       "    <tr style=\"text-align: right;\">\n",
       "      <th></th>\n",
       "      <th>Region</th>\n",
       "      <th>2000</th>\n",
       "      <th>2001</th>\n",
       "      <th>2002</th>\n",
       "      <th>2003</th>\n",
       "      <th>2004</th>\n",
       "      <th>2005</th>\n",
       "      <th>2006</th>\n",
       "      <th>2007</th>\n",
       "      <th>2008</th>\n",
       "      <th>2009</th>\n",
       "      <th>2010</th>\n",
       "      <th>2011</th>\n",
       "      <th>2012</th>\n",
       "      <th>2013</th>\n",
       "      <th>2014</th>\n",
       "      <th>2015</th>\n",
       "      <th>2016</th>\n",
       "    </tr>\n",
       "  </thead>\n",
       "  <tbody>\n",
       "    <tr>\n",
       "      <th>3</th>\n",
       "      <td>United States</td>\n",
       "      <td>282,162,411</td>\n",
       "      <td>284,968,955</td>\n",
       "      <td>287,625,193</td>\n",
       "      <td>290,107,933</td>\n",
       "      <td>292,805,298</td>\n",
       "      <td>295,516,599</td>\n",
       "      <td>298,379,912</td>\n",
       "      <td>301,231,207</td>\n",
       "      <td>304,093,966</td>\n",
       "      <td>306,771,529</td>\n",
       "      <td>309,348,193</td>\n",
       "      <td>311,663,358</td>\n",
       "      <td>313,998,379</td>\n",
       "      <td>316,204,908</td>\n",
       "      <td>318,563,456</td>\n",
       "      <td>320,896,618</td>\n",
       "      <td>323,127,513</td>\n",
       "    </tr>\n",
       "    <tr>\n",
       "      <th>4</th>\n",
       "      <td>Northeast</td>\n",
       "      <td>53,666,295</td>\n",
       "      <td>53,915,522</td>\n",
       "      <td>54,143,915</td>\n",
       "      <td>54,334,453</td>\n",
       "      <td>54,423,533</td>\n",
       "      <td>54,451,230</td>\n",
       "      <td>54,522,659</td>\n",
       "      <td>54,653,362</td>\n",
       "      <td>54,875,926</td>\n",
       "      <td>55,133,101</td>\n",
       "      <td>55,388,056</td>\n",
       "      <td>55,632,766</td>\n",
       "      <td>55,829,059</td>\n",
       "      <td>55,988,771</td>\n",
       "      <td>56,116,791</td>\n",
       "      <td>56,184,737</td>\n",
       "      <td>56,209,510</td>\n",
       "    </tr>\n",
       "    <tr>\n",
       "      <th>5</th>\n",
       "      <td>Midwest</td>\n",
       "      <td>64,491,431</td>\n",
       "      <td>64,776,531</td>\n",
       "      <td>65,018,293</td>\n",
       "      <td>65,276,954</td>\n",
       "      <td>65,532,305</td>\n",
       "      <td>65,751,872</td>\n",
       "      <td>66,028,555</td>\n",
       "      <td>66,293,689</td>\n",
       "      <td>66,523,935</td>\n",
       "      <td>66,748,437</td>\n",
       "      <td>66,978,602</td>\n",
       "      <td>67,153,331</td>\n",
       "      <td>67,332,320</td>\n",
       "      <td>67,543,948</td>\n",
       "      <td>67,726,368</td>\n",
       "      <td>67,838,387</td>\n",
       "      <td>67,941,429</td>\n",
       "    </tr>\n",
       "    <tr>\n",
       "      <th>6</th>\n",
       "      <td>South</td>\n",
       "      <td>100,565,549</td>\n",
       "      <td>101,849,575</td>\n",
       "      <td>103,150,787</td>\n",
       "      <td>104,380,188</td>\n",
       "      <td>105,883,977</td>\n",
       "      <td>107,479,771</td>\n",
       "      <td>109,076,933</td>\n",
       "      <td>110,688,742</td>\n",
       "      <td>112,184,930</td>\n",
       "      <td>113,548,615</td>\n",
       "      <td>114,863,114</td>\n",
       "      <td>116,061,801</td>\n",
       "      <td>117,299,171</td>\n",
       "      <td>118,424,320</td>\n",
       "      <td>119,696,311</td>\n",
       "      <td>121,039,206</td>\n",
       "      <td>122,319,574</td>\n",
       "    </tr>\n",
       "    <tr>\n",
       "      <th>7</th>\n",
       "      <td>West</td>\n",
       "      <td>63,439,136</td>\n",
       "      <td>64,427,327</td>\n",
       "      <td>65,312,198</td>\n",
       "      <td>66,116,338</td>\n",
       "      <td>66,965,483</td>\n",
       "      <td>67,833,726</td>\n",
       "      <td>68,751,765</td>\n",
       "      <td>69,595,414</td>\n",
       "      <td>70,509,175</td>\n",
       "      <td>71,341,376</td>\n",
       "      <td>72,118,421</td>\n",
       "      <td>72,815,460</td>\n",
       "      <td>73,537,829</td>\n",
       "      <td>74,247,869</td>\n",
       "      <td>75,023,986</td>\n",
       "      <td>75,834,288</td>\n",
       "      <td>76,657,000</td>\n",
       "    </tr>\n",
       "  </tbody>\n",
       "</table>\n",
       "</div>"
      ],
      "text/plain": [
       "          Region         2000         2001         2002         2003  \\\n",
       "3  United States  282,162,411  284,968,955  287,625,193  290,107,933   \n",
       "4      Northeast   53,666,295   53,915,522   54,143,915   54,334,453   \n",
       "5        Midwest   64,491,431   64,776,531   65,018,293   65,276,954   \n",
       "6          South  100,565,549  101,849,575  103,150,787  104,380,188   \n",
       "7           West   63,439,136   64,427,327   65,312,198   66,116,338   \n",
       "\n",
       "          2004         2005         2006         2007         2008  \\\n",
       "3  292,805,298  295,516,599  298,379,912  301,231,207  304,093,966   \n",
       "4   54,423,533   54,451,230   54,522,659   54,653,362   54,875,926   \n",
       "5   65,532,305   65,751,872   66,028,555   66,293,689   66,523,935   \n",
       "6  105,883,977  107,479,771  109,076,933  110,688,742  112,184,930   \n",
       "7   66,965,483   67,833,726   68,751,765   69,595,414   70,509,175   \n",
       "\n",
       "          2009         2010         2011         2012         2013  \\\n",
       "3  306,771,529  309,348,193  311,663,358  313,998,379  316,204,908   \n",
       "4   55,133,101   55,388,056   55,632,766   55,829,059   55,988,771   \n",
       "5   66,748,437   66,978,602   67,153,331   67,332,320   67,543,948   \n",
       "6  113,548,615  114,863,114  116,061,801  117,299,171  118,424,320   \n",
       "7   71,341,376   72,118,421   72,815,460   73,537,829   74,247,869   \n",
       "\n",
       "          2014         2015         2016  \n",
       "3  318,563,456  320,896,618  323,127,513  \n",
       "4   56,116,791   56,184,737   56,209,510  \n",
       "5   67,726,368   67,838,387   67,941,429  \n",
       "6  119,696,311  121,039,206  122,319,574  \n",
       "7   75,023,986   75,834,288   76,657,000  "
      ]
     },
     "execution_count": 480,
     "metadata": {},
     "output_type": "execute_result"
    }
   ],
   "source": [
    "# importing the regular expression library\n",
    "import re\n",
    "\n",
    "# took out the beginning and last few rows as they are irrelevant\n",
    "table2000 = table2000.iloc[3:61]\n",
    "# drop empty rows (there is one row that is completely empty)\n",
    "table2000 = table2000.dropna(axis=0, how='all')\n",
    "\n",
    "# drop unncessary columns\n",
    "cols = [1,12,13]\n",
    "table2000.drop(table2000.columns[cols], axis=1, inplace=True)\n",
    "\n",
    "# rename column headers\n",
    "table2000.columns = ['Region', '2000','2001','2002','2003','2004','2005','2006','2007','2008','2009']\n",
    "\n",
    "# took out the beginning and last rows as they are irrelevant\n",
    "table2010 = table2010.iloc[3:61]\n",
    "# drop empty rows (there is one row that is completely empty)\n",
    "table2010 = table2010.dropna(axis=0, how='all')\n",
    "\n",
    "# drop unncessary columns\n",
    "cols = [0,1,2]\n",
    "table2010.drop(table2010.columns[cols], axis=1, inplace=True)\n",
    "\n",
    "# rename column headers\n",
    "table2010.columns = ['2010','2011','2012','2013','2014','2015','2016']\n",
    "\n",
    "# merge the two dataframes together\n",
    "population = table2000.join(table2010)\n",
    "\n",
    "# the region column has a '.' in front of every state, this gets rid of it\n",
    "# changes the District of Columbia to Washington DC to match the Food dataframe\n",
    "for _, row in population.iterrows():\n",
    "    row['Region'] = re.sub('[.]', '', row['Region'])\n",
    "    if row['Region'] == 'District of Columbia':\n",
    "        row['Region'] = re.sub('District of Columbia', 'Washington DC', row['Region'])\n",
    "        \n",
    "\n",
    "# reset the index for organization\n",
    "population.reset_index()\n",
    "population.head()"
   ]
  },
  {
   "cell_type": "markdown",
   "metadata": {},
   "source": [
    "<font size=\"3\"><a href='#toC'>To Table of Contents</a></font>"
   ]
  },
  {
   "cell_type": "markdown",
   "metadata": {},
   "source": [
    "<a id='etiology'></a>\n",
    "## Etiology Status Analysis\n",
    "\n",
    "In this section, we will analyze the column Etiology Status which has information on the status of cases, whether they were confirmed or suspected incidents of contamination."
   ]
  },
  {
   "cell_type": "code",
   "execution_count": 481,
   "metadata": {},
   "outputs": [],
   "source": [
    "import numpy as np\n",
    "import matplotlib.pyplot as plt\n",
    "%matplotlib inline"
   ]
  },
  {
   "cell_type": "code",
   "execution_count": 482,
   "metadata": {},
   "outputs": [
    {
     "data": {
      "text/plain": [
       "Confirmed    0.667507\n",
       "Suspected    0.332493\n",
       "Name: Etiology Status, dtype: float64"
      ]
     },
     "execution_count": 482,
     "metadata": {},
     "output_type": "execute_result"
    }
   ],
   "source": [
    "# took out unncessary data, and normalize it\n",
    "food[\"Etiology Status\"].value_counts(normalize=True)\n"
   ]
  },
  {
   "cell_type": "markdown",
   "metadata": {},
   "source": [
    "66.75% of all cases were confirmed while 33.25% of cases were suspected. "
   ]
  },
  {
   "cell_type": "code",
   "execution_count": 483,
   "metadata": {},
   "outputs": [
    {
     "data": {
      "text/plain": [
       "<matplotlib.axes._subplots.AxesSubplot at 0x7f52eaaf9748>"
      ]
     },
     "execution_count": 483,
     "metadata": {},
     "output_type": "execute_result"
    },
    {
     "data": {
      "image/png": "[encoded data removed]",
      "text/plain": [
       "<matplotlib.figure.Figure at 0x7f52f0d4e908>"
      ]
     },
     "metadata": {},
     "output_type": "display_data"
    }
   ],
   "source": [
    "# sort by year then status\n",
    "food_groupby = food[[\"Year\",\"Etiology Status\"]].groupby(\"Year\")\n",
    "\n",
    "year_list = []\n",
    "percent = []\n",
    "\n",
    "# create new dataframes to separate 'Confirmed' and 'Suspected' cases\n",
    "for group in food[\"Year\"].unique():\n",
    "    \n",
    "    df = food[food[\"Year\"] == group]\n",
    "    confirmed = df[df[\"Etiology Status\"] == \"Confirmed\"]\n",
    "    suspected = df[df[\"Etiology Status\"] == \"Suspected\"]\n",
    "    percent_confirm = len(confirmed)/len(df)\n",
    "    percent.append(percent_confirm)\n",
    "    year_list.append(group)\n",
    "    \n",
    "# create a graph showing percentage of confirmed vs year\n",
    "year_vs_etiology = pd.DataFrame({'Year':year_list,'Etiology':percent})\n",
    "year_vs_etiology = year_vs_etiology.sort_values(by='Year')\n",
    "year_vs_etiology = year_vs_etiology.reset_index(drop=True)\n",
    "year_vs_etiology.plot(x='Year',y='Etiology',title = 'Percentage of Confirmed vs Year')"
   ]
  },
  {
   "cell_type": "code",
   "execution_count": 484,
   "metadata": {},
   "outputs": [
    {
     "data": {
      "text/plain": [
       "<matplotlib.axes._subplots.AxesSubplot at 0x7f52eaf48b70>"
      ]
     },
     "execution_count": 484,
     "metadata": {},
     "output_type": "execute_result"
    },
    {
     "data": {
      "image/png": "[encoded data removed]",
      "text/plain": [
       "<matplotlib.figure.Figure at 0x7f52f0244d68>"
      ]
     },
     "metadata": {},
     "output_type": "display_data"
    }
   ],
   "source": [
    "# similiar to the code above, but does the opposite\n",
    "food_groupby = food[[\"Year\",\"Etiology Status\"]].groupby(\"Year\")\n",
    "year_list = []\n",
    "percent = []\n",
    "\n",
    "for group in food[\"Year\"].unique():\n",
    "    \n",
    "    df = food[food[\"Year\"] == group]\n",
    "    confirmed = df[df[\"Etiology Status\"] == \"Confirmed\"]\n",
    "    suspected = df[df[\"Etiology Status\"] == \"Suspected\"]\n",
    "    percent_confirm = len(suspected)/len(df)\n",
    "    percent.append(percent_confirm)\n",
    "    year_list.append(group)\n",
    "    \n",
    "# creates a graph that will shows the reverse of the graph above, this shows percentage of suspected vs year\n",
    "year_vs_etiology = pd.DataFrame({'Year':year_list,'Etiology':percent})\n",
    "year_vs_etiology = year_vs_etiology.sort_values(by='Year')\n",
    "year_vs_etiology = year_vs_etiology.reset_index(drop=True)\n",
    "year_vs_etiology.plot(x='Year',y='Etiology',title='Percentage of Suspected vs Year')"
   ]
  },
  {
   "cell_type": "markdown",
   "metadata": {},
   "source": [
    "From the data set provided to us, we are able to analyze the Etiology rates over time from the years 2000-2016. We discovered that in recent years, the number of confirmed illnesses dropped, and suspected illnesses increased. Now, lets pivot and focus our attention on the illnesses by state. The rest of this tutorial is dedicated towards analyzing and comparing these states over the years 2000-2016."
   ]
  },
  {
   "cell_type": "markdown",
   "metadata": {},
   "source": [
    "<font size=\"3\"><a href='#toC'>To Table of Contents</a></font>"
   ]
  },
  {
   "cell_type": "markdown",
   "metadata": {},
   "source": [
    "<a id='normal'></a>\n",
    "## Normalizing the Data"
   ]
  },
  {
   "cell_type": "markdown",
   "metadata": {},
   "source": [
    "In the next step, we are going to calculate the total number of incidents for each state, per year and per month. We will create an additional column at the end of our current dataframe named \"Total Incidents\". We decided to do this because we are not focusing on the severity of the illness, but are keeping track of the number of food illnesses."
   ]
  },
  {
   "cell_type": "code",
   "execution_count": 485,
   "metadata": {},
   "outputs": [
    {
     "data": {
      "text/html": [
       "<div>\n",
       "<table border=\"1\" class=\"dataframe\">\n",
       "  <thead>\n",
       "    <tr style=\"text-align: right;\">\n",
       "      <th></th>\n",
       "      <th>Year</th>\n",
       "      <th>Month</th>\n",
       "      <th>State</th>\n",
       "      <th>Genus Species</th>\n",
       "      <th>Etiology Status</th>\n",
       "      <th>Location of Preparation</th>\n",
       "      <th>Illnesses</th>\n",
       "      <th>Hospitalizations</th>\n",
       "      <th>Deaths</th>\n",
       "      <th>Total Incidents</th>\n",
       "    </tr>\n",
       "  </thead>\n",
       "  <tbody>\n",
       "    <tr>\n",
       "      <th>7927</th>\n",
       "      <td>2000</td>\n",
       "      <td>4</td>\n",
       "      <td>Alabama</td>\n",
       "      <td>Bacillus cereus</td>\n",
       "      <td>Suspected</td>\n",
       "      <td>Restaurant - other or unknown type</td>\n",
       "      <td>6</td>\n",
       "      <td>0.0</td>\n",
       "      <td>0.0</td>\n",
       "      <td>6</td>\n",
       "    </tr>\n",
       "    <tr>\n",
       "      <th>7914</th>\n",
       "      <td>2000</td>\n",
       "      <td>6</td>\n",
       "      <td>Alabama</td>\n",
       "      <td>Salmonella enterica</td>\n",
       "      <td>Confirmed</td>\n",
       "      <td>Restaurant - other or unknown type; Private ho...</td>\n",
       "      <td>40</td>\n",
       "      <td>1.0</td>\n",
       "      <td>0.0</td>\n",
       "      <td>41</td>\n",
       "    </tr>\n",
       "    <tr>\n",
       "      <th>7910</th>\n",
       "      <td>2000</td>\n",
       "      <td>8</td>\n",
       "      <td>Alabama</td>\n",
       "      <td>Salmonella enterica</td>\n",
       "      <td>Confirmed</td>\n",
       "      <td>Restaurant - other or unknown type</td>\n",
       "      <td>50</td>\n",
       "      <td>5.0</td>\n",
       "      <td>0.0</td>\n",
       "      <td>55</td>\n",
       "    </tr>\n",
       "    <tr>\n",
       "      <th>11682</th>\n",
       "      <td>2003</td>\n",
       "      <td>6</td>\n",
       "      <td>Alabama</td>\n",
       "      <td>Other - Chemical/Toxin</td>\n",
       "      <td>Suspected</td>\n",
       "      <td>Restaurant - other or unknown type</td>\n",
       "      <td>2</td>\n",
       "      <td>0.0</td>\n",
       "      <td>0.0</td>\n",
       "      <td>2</td>\n",
       "    </tr>\n",
       "    <tr>\n",
       "      <th>15902</th>\n",
       "      <td>2005</td>\n",
       "      <td>4</td>\n",
       "      <td>Alabama</td>\n",
       "      <td>Norovirus Genogroup I</td>\n",
       "      <td>Confirmed</td>\n",
       "      <td>Restaurant - other or unknown type</td>\n",
       "      <td>32</td>\n",
       "      <td>0.0</td>\n",
       "      <td>0.0</td>\n",
       "      <td>32</td>\n",
       "    </tr>\n",
       "  </tbody>\n",
       "</table>\n",
       "</div>"
      ],
      "text/plain": [
       "       Year  Month    State           Genus Species Etiology Status  \\\n",
       "7927   2000      4  Alabama         Bacillus cereus       Suspected   \n",
       "7914   2000      6  Alabama     Salmonella enterica       Confirmed   \n",
       "7910   2000      8  Alabama     Salmonella enterica       Confirmed   \n",
       "11682  2003      6  Alabama  Other - Chemical/Toxin       Suspected   \n",
       "15902  2005      4  Alabama   Norovirus Genogroup I       Confirmed   \n",
       "\n",
       "                                 Location of Preparation  Illnesses  \\\n",
       "7927                  Restaurant - other or unknown type          6   \n",
       "7914   Restaurant - other or unknown type; Private ho...         40   \n",
       "7910                  Restaurant - other or unknown type         50   \n",
       "11682                 Restaurant - other or unknown type          2   \n",
       "15902                 Restaurant - other or unknown type         32   \n",
       "\n",
       "       Hospitalizations  Deaths Total Incidents  \n",
       "7927                0.0     0.0               6  \n",
       "7914                1.0     0.0              41  \n",
       "7910                5.0     0.0              55  \n",
       "11682               0.0     0.0               2  \n",
       "15902               0.0     0.0              32  "
      ]
     },
     "execution_count": 485,
     "metadata": {},
     "output_type": "execute_result"
    }
   ],
   "source": [
    "# create a new column in dataframe, all values to 0\n",
    "food['Total Incidents'] = '0.0'\n",
    "\n",
    "# calculate the total number of incidents\n",
    "for index,row in food.iterrows():\n",
    "    food.ix[index, 'Total Incidents'] = food.ix[index, 'Illnesses'] + food.ix[index, 'Hospitalizations'] + food.ix[index,'Deaths']\n",
    "    \n",
    "food.head()"
   ]
  },
  {
   "cell_type": "markdown",
   "metadata": {},
   "source": [
    "We decided to condense the data to each year instead of each month. This will make the data more readable. Additionally, this will help match the food dataframe to the population dataframe, as the US Census data shows the yearly estimates"
   ]
  },
  {
   "cell_type": "code",
   "execution_count": 486,
   "metadata": {},
   "outputs": [
    {
     "data": {
      "text/html": [
       "<div>\n",
       "<table border=\"1\" class=\"dataframe\">\n",
       "  <thead>\n",
       "    <tr style=\"text-align: right;\">\n",
       "      <th></th>\n",
       "      <th>State</th>\n",
       "      <th>Year</th>\n",
       "      <th>Total Incidents</th>\n",
       "    </tr>\n",
       "  </thead>\n",
       "  <tbody>\n",
       "    <tr>\n",
       "      <th>0</th>\n",
       "      <td>Alabama</td>\n",
       "      <td>2000</td>\n",
       "      <td>102.0</td>\n",
       "    </tr>\n",
       "    <tr>\n",
       "      <th>1</th>\n",
       "      <td>Alabama</td>\n",
       "      <td>2001</td>\n",
       "      <td>0.0</td>\n",
       "    </tr>\n",
       "    <tr>\n",
       "      <th>2</th>\n",
       "      <td>Alabama</td>\n",
       "      <td>2002</td>\n",
       "      <td>0.0</td>\n",
       "    </tr>\n",
       "    <tr>\n",
       "      <th>3</th>\n",
       "      <td>Alabama</td>\n",
       "      <td>2003</td>\n",
       "      <td>2.0</td>\n",
       "    </tr>\n",
       "    <tr>\n",
       "      <th>4</th>\n",
       "      <td>Alabama</td>\n",
       "      <td>2004</td>\n",
       "      <td>0.0</td>\n",
       "    </tr>\n",
       "  </tbody>\n",
       "</table>\n",
       "</div>"
      ],
      "text/plain": [
       "     State  Year  Total Incidents\n",
       "0  Alabama  2000            102.0\n",
       "1  Alabama  2001              0.0\n",
       "2  Alabama  2002              0.0\n",
       "3  Alabama  2003              2.0\n",
       "4  Alabama  2004              0.0"
      ]
     },
     "execution_count": 486,
     "metadata": {},
     "output_type": "execute_result"
    }
   ],
   "source": [
    "from itertools import product\n",
    "\n",
    "# orders the dataframe\n",
    "states = food['State'].unique()\n",
    "years = np.sort(food['Year'].unique())\n",
    "df = pd.DataFrame(list(product(states, years)), columns=['State', 'Year'])\n",
    "df['Total Incidents'] = 0\n",
    "\n",
    "# organize the dataframe to show each state's total incidents for each year\n",
    "for index,row in food.iterrows():\n",
    "    state = food.ix[index, 'State']\n",
    "    year = food.ix[index, 'Year']\n",
    "    totalIncidents = food.ix[index, 'Total Incidents']\n",
    "    df.loc[(df['State'] == state)  & (df['Year'] == year), 'Total Incidents'] += totalIncidents\n",
    "    \n",
    "# displays the first five rows\n",
    "df.head()"
   ]
  },
  {
   "cell_type": "markdown",
   "metadata": {},
   "source": [
    "Using the table, we can create plots to look at how the total number of incidents changed between years for a specific state. For example, the graph below shows the change over time for the beautiful state of Maryland."
   ]
  },
  {
   "cell_type": "code",
   "execution_count": 487,
   "metadata": {},
   "outputs": [
    {
     "data": {
      "text/plain": [
       "<seaborn.axisgrid.FacetGrid at 0x7f52f0127080>"
      ]
     },
     "execution_count": 487,
     "metadata": {},
     "output_type": "execute_result"
    },
    {
     "data": {
      "image/png": "[encoded data removed]",
      "text/plain": [
       "<matplotlib.figure.Figure at 0x7f52ea8c9f28>"
      ]
     },
     "metadata": {},
     "output_type": "display_data"
    }
   ],
   "source": [
    "import seaborn as sns\n",
    "maryland = df[df.State == 'Maryland']\n",
    "sns.lmplot(x='Year', y='Total Incidents', data=maryland,fit_reg=True)"
   ]
  },
  {
   "cell_type": "markdown",
   "metadata": {},
   "source": [
    "Now that we have the total number of incidents for each state, we can visualize the total number of incidents for each state and year right? Then we can start comparing the numbers to see which states is more likely to get food-related illness, and which states is safer. \n",
    "\n",
    "<b><big> WRONG!</big></b>\n",
    "\n",
    "This data is meaningless without normalizing! For example, let's take California in 2002 and compare it to Washington DC in 2002.\n"
   ]
  },
  {
   "cell_type": "code",
   "execution_count": 488,
   "metadata": {},
   "outputs": [
    {
     "data": {
      "text/html": [
       "<div>\n",
       "<table border=\"1\" class=\"dataframe\">\n",
       "  <thead>\n",
       "    <tr style=\"text-align: right;\">\n",
       "      <th></th>\n",
       "      <th>State</th>\n",
       "      <th>Year</th>\n",
       "      <th>Total Incidents</th>\n",
       "    </tr>\n",
       "  </thead>\n",
       "  <tbody>\n",
       "    <tr>\n",
       "      <th>70</th>\n",
       "      <td>California</td>\n",
       "      <td>2002</td>\n",
       "      <td>1715.0</td>\n",
       "    </tr>\n",
       "  </tbody>\n",
       "</table>\n",
       "</div>"
      ],
      "text/plain": [
       "         State  Year  Total Incidents\n",
       "70  California  2002           1715.0"
      ]
     },
     "metadata": {},
     "output_type": "display_data"
    },
    {
     "data": {
      "text/html": [
       "<div>\n",
       "<table border=\"1\" class=\"dataframe\">\n",
       "  <thead>\n",
       "    <tr style=\"text-align: right;\">\n",
       "      <th></th>\n",
       "      <th>State</th>\n",
       "      <th>Year</th>\n",
       "      <th>Total Incidents</th>\n",
       "    </tr>\n",
       "  </thead>\n",
       "  <tbody>\n",
       "    <tr>\n",
       "      <th>818</th>\n",
       "      <td>Washington DC</td>\n",
       "      <td>2002</td>\n",
       "      <td>108.0</td>\n",
       "    </tr>\n",
       "  </tbody>\n",
       "</table>\n",
       "</div>"
      ],
      "text/plain": [
       "             State  Year  Total Incidents\n",
       "818  Washington DC  2002            108.0"
      ]
     },
     "metadata": {},
     "output_type": "display_data"
    }
   ],
   "source": [
    "display(df.loc[(df['State'] == 'California') & (df['Year'] == 2002)])\n",
    "display(df.loc[(df['State'] == 'Washington DC') & (df['Year'] == 2002)])"
   ]
  },
  {
   "cell_type": "markdown",
   "metadata": {},
   "source": [
    "Wow! California had 1,715 incidents, while Washington DC only had 108 incidents! Does that mean you are around 16 times more likely to get sick in California than in Washington DC?\n",
    "\n",
    "<b><big> NOPE!</big></b>\n",
    "\n",
    "\n",
    "Intuitively, a state with a larger population would have more people consuming food/contracting food related illnesses. As of such, while California does have a lot more outbreaks than Washington DC, we have to remember that California has a larger population than Washington DC! Looking at the population table above, we see that California had a population of 34,871,843 in 2002, while Washingon DC only has 573,158. Using this information, we can normalize the total incidents and find the ratio of the population to number of incidents\n"
   ]
  },
  {
   "cell_type": "code",
   "execution_count": 489,
   "metadata": {},
   "outputs": [
    {
     "data": {
      "text/html": [
       "<div>\n",
       "<table border=\"1\" class=\"dataframe\">\n",
       "  <thead>\n",
       "    <tr style=\"text-align: right;\">\n",
       "      <th></th>\n",
       "      <th>State</th>\n",
       "      <th>Year</th>\n",
       "      <th>Total Incidents</th>\n",
       "      <th>Total Incidents Normalized</th>\n",
       "    </tr>\n",
       "  </thead>\n",
       "  <tbody>\n",
       "    <tr>\n",
       "      <th>0</th>\n",
       "      <td>Alabama</td>\n",
       "      <td>2000</td>\n",
       "      <td>102.0</td>\n",
       "      <td>4.364875e+04</td>\n",
       "    </tr>\n",
       "    <tr>\n",
       "      <th>1</th>\n",
       "      <td>Alabama</td>\n",
       "      <td>2001</td>\n",
       "      <td>0.0</td>\n",
       "      <td>0.000000e+00</td>\n",
       "    </tr>\n",
       "    <tr>\n",
       "      <th>2</th>\n",
       "      <td>Alabama</td>\n",
       "      <td>2002</td>\n",
       "      <td>0.0</td>\n",
       "      <td>0.000000e+00</td>\n",
       "    </tr>\n",
       "    <tr>\n",
       "      <th>3</th>\n",
       "      <td>Alabama</td>\n",
       "      <td>2003</td>\n",
       "      <td>2.0</td>\n",
       "      <td>2.251746e+06</td>\n",
       "    </tr>\n",
       "    <tr>\n",
       "      <th>4</th>\n",
       "      <td>Alabama</td>\n",
       "      <td>2004</td>\n",
       "      <td>0.0</td>\n",
       "      <td>0.000000e+00</td>\n",
       "    </tr>\n",
       "  </tbody>\n",
       "</table>\n",
       "</div>"
      ],
      "text/plain": [
       "     State  Year  Total Incidents  Total Incidents Normalized\n",
       "0  Alabama  2000            102.0                4.364875e+04\n",
       "1  Alabama  2001              0.0                0.000000e+00\n",
       "2  Alabama  2002              0.0                0.000000e+00\n",
       "3  Alabama  2003              2.0                2.251746e+06\n",
       "4  Alabama  2004              0.0                0.000000e+00"
      ]
     },
     "execution_count": 489,
     "metadata": {},
     "output_type": "execute_result"
    }
   ],
   "source": [
    "# normalize the data\n",
    "df['Total Incidents Normalized'] = 0\n",
    "for index,row in df.iterrows():\n",
    "    state = df.ix[index, 'State']\n",
    "    year = df.ix[index, 'Year']\n",
    "    totalIncidents = df.ix[index, 'Total Incidents']\n",
    "    pop = population.loc[population['Region'] == state, str(year)]\n",
    "    # tidying data from US census to make it an integer\n",
    "    pop = str(pop).replace(',','')\n",
    "\n",
    "    # utilizing regex to remove whitespace and unnecessary numbers\n",
    "    pattern = re.compile('\\d+\\s+(\\d+)')\n",
    "    m =pattern.search(str(pop))\n",
    "    pop = int(m.group(1))\n",
    "    # normalizes the total incidents for the specific year and state\n",
    "    if totalIncidents != 0:\n",
    "        df.loc[(df['State'] == state)  & (df['Year'] == year), 'Total Incidents Normalized'] = int(pop)/int(totalIncidents)\n",
    "        \n",
    "# shows the first 5 results\n",
    "df.head()"
   ]
  },
  {
   "cell_type": "markdown",
   "metadata": {},
   "source": [
    "Now that our table is normalized, we have records of the total number of food related illnesses for each state in the years 2000 - 2016, as well as the normalized total. The normalized total can be interpreted as \"For approximately every (Total Incidents Normaized) people living in (State) in the year (Year), there will be one serious food related illness\". \n",
    "\n",
    "Let's compare California and Washington DC in 2002 again"
   ]
  },
  {
   "cell_type": "code",
   "execution_count": 490,
   "metadata": {
    "scrolled": false
   },
   "outputs": [
    {
     "data": {
      "text/html": [
       "<div>\n",
       "<table border=\"1\" class=\"dataframe\">\n",
       "  <thead>\n",
       "    <tr style=\"text-align: right;\">\n",
       "      <th></th>\n",
       "      <th>State</th>\n",
       "      <th>Year</th>\n",
       "      <th>Total Incidents</th>\n",
       "      <th>Total Incidents Normalized</th>\n",
       "    </tr>\n",
       "  </thead>\n",
       "  <tbody>\n",
       "    <tr>\n",
       "      <th>70</th>\n",
       "      <td>California</td>\n",
       "      <td>2002</td>\n",
       "      <td>1715.0</td>\n",
       "      <td>20333.436152</td>\n",
       "    </tr>\n",
       "  </tbody>\n",
       "</table>\n",
       "</div>"
      ],
      "text/plain": [
       "         State  Year  Total Incidents  Total Incidents Normalized\n",
       "70  California  2002           1715.0                20333.436152"
      ]
     },
     "metadata": {},
     "output_type": "display_data"
    },
    {
     "data": {
      "text/html": [
       "<div>\n",
       "<table border=\"1\" class=\"dataframe\">\n",
       "  <thead>\n",
       "    <tr style=\"text-align: right;\">\n",
       "      <th></th>\n",
       "      <th>State</th>\n",
       "      <th>Year</th>\n",
       "      <th>Total Incidents</th>\n",
       "      <th>Total Incidents Normalized</th>\n",
       "    </tr>\n",
       "  </thead>\n",
       "  <tbody>\n",
       "    <tr>\n",
       "      <th>818</th>\n",
       "      <td>Washington DC</td>\n",
       "      <td>2002</td>\n",
       "      <td>108.0</td>\n",
       "      <td>5307.018519</td>\n",
       "    </tr>\n",
       "  </tbody>\n",
       "</table>\n",
       "</div>"
      ],
      "text/plain": [
       "             State  Year  Total Incidents  Total Incidents Normalized\n",
       "818  Washington DC  2002            108.0                 5307.018519"
      ]
     },
     "execution_count": 490,
     "metadata": {},
     "output_type": "execute_result"
    }
   ],
   "source": [
    "display(df.loc[(df['State'] == 'California') & (df['Year'] == 2002)])\n",
    "df.loc[(df['State'] == 'Washington DC') & (df['Year'] == 2002)]"
   ]
  },
  {
   "cell_type": "markdown",
   "metadata": {},
   "source": [
    "This shows that in California, one person will get sick in about every 20,000 people, and in Washington DC, one person will get sick in about every 5,000 people. You are 4 times more likely to get sick in Washington DC than in California!"
   ]
  },
  {
   "cell_type": "markdown",
   "metadata": {},
   "source": [
    "Now, let's look at the total incidents for each year in the United States."
   ]
  },
  {
   "cell_type": "code",
   "execution_count": 491,
   "metadata": {},
   "outputs": [
    {
     "data": {
      "text/html": [
       "<div>\n",
       "<table border=\"1\" class=\"dataframe\">\n",
       "  <thead>\n",
       "    <tr style=\"text-align: right;\">\n",
       "      <th></th>\n",
       "      <th>Year</th>\n",
       "      <th>Total Incidents</th>\n",
       "    </tr>\n",
       "  </thead>\n",
       "  <tbody>\n",
       "    <tr>\n",
       "      <th>0</th>\n",
       "      <td>2000</td>\n",
       "      <td>11056.0</td>\n",
       "    </tr>\n",
       "    <tr>\n",
       "      <th>1</th>\n",
       "      <td>2001</td>\n",
       "      <td>14151.0</td>\n",
       "    </tr>\n",
       "    <tr>\n",
       "      <th>2</th>\n",
       "      <td>2002</td>\n",
       "      <td>15103.0</td>\n",
       "    </tr>\n",
       "    <tr>\n",
       "      <th>3</th>\n",
       "      <td>2003</td>\n",
       "      <td>12505.0</td>\n",
       "    </tr>\n",
       "    <tr>\n",
       "      <th>4</th>\n",
       "      <td>2004</td>\n",
       "      <td>18147.0</td>\n",
       "    </tr>\n",
       "    <tr>\n",
       "      <th>5</th>\n",
       "      <td>2005</td>\n",
       "      <td>11487.0</td>\n",
       "    </tr>\n",
       "    <tr>\n",
       "      <th>6</th>\n",
       "      <td>2006</td>\n",
       "      <td>17718.0</td>\n",
       "    </tr>\n",
       "    <tr>\n",
       "      <th>7</th>\n",
       "      <td>2007</td>\n",
       "      <td>12633.0</td>\n",
       "    </tr>\n",
       "    <tr>\n",
       "      <th>8</th>\n",
       "      <td>2008</td>\n",
       "      <td>14362.0</td>\n",
       "    </tr>\n",
       "    <tr>\n",
       "      <th>9</th>\n",
       "      <td>2009</td>\n",
       "      <td>7214.0</td>\n",
       "    </tr>\n",
       "    <tr>\n",
       "      <th>10</th>\n",
       "      <td>2010</td>\n",
       "      <td>9295.0</td>\n",
       "    </tr>\n",
       "    <tr>\n",
       "      <th>11</th>\n",
       "      <td>2011</td>\n",
       "      <td>7856.0</td>\n",
       "    </tr>\n",
       "    <tr>\n",
       "      <th>12</th>\n",
       "      <td>2012</td>\n",
       "      <td>8970.0</td>\n",
       "    </tr>\n",
       "    <tr>\n",
       "      <th>13</th>\n",
       "      <td>2013</td>\n",
       "      <td>9529.0</td>\n",
       "    </tr>\n",
       "    <tr>\n",
       "      <th>14</th>\n",
       "      <td>2014</td>\n",
       "      <td>10412.0</td>\n",
       "    </tr>\n",
       "    <tr>\n",
       "      <th>15</th>\n",
       "      <td>2015</td>\n",
       "      <td>10653.0</td>\n",
       "    </tr>\n",
       "    <tr>\n",
       "      <th>16</th>\n",
       "      <td>2016</td>\n",
       "      <td>10218.0</td>\n",
       "    </tr>\n",
       "  </tbody>\n",
       "</table>\n",
       "</div>"
      ],
      "text/plain": [
       "    Year  Total Incidents\n",
       "0   2000          11056.0\n",
       "1   2001          14151.0\n",
       "2   2002          15103.0\n",
       "3   2003          12505.0\n",
       "4   2004          18147.0\n",
       "5   2005          11487.0\n",
       "6   2006          17718.0\n",
       "7   2007          12633.0\n",
       "8   2008          14362.0\n",
       "9   2009           7214.0\n",
       "10  2010           9295.0\n",
       "11  2011           7856.0\n",
       "12  2012           8970.0\n",
       "13  2013           9529.0\n",
       "14  2014          10412.0\n",
       "15  2015          10653.0\n",
       "16  2016          10218.0"
      ]
     },
     "execution_count": 491,
     "metadata": {},
     "output_type": "execute_result"
    }
   ],
   "source": [
    "years = np.sort(food['Year'].unique())\n",
    "total = pd.DataFrame(columns = ['Year', 'Total Incidents'])\n",
    "\n",
    "total['Year'] = years\n",
    "total['Total Incidents'] = 0\n",
    "for index,row in df.iterrows():\n",
    "    year = df.ix[index, 'Year']\n",
    "    totalIncidents = df.ix[index, 'Total Incidents']\n",
    "    total.loc[total['Year'] == year, 'Total Incidents'] += totalIncidents\n",
    "\n",
    "total"
   ]
  },
  {
   "cell_type": "markdown",
   "metadata": {},
   "source": [
    "With our data set, we can also look at the total # of illnesses in the entire United States by year. Again however, it's important to consider population when analyzing our data, as the U.S. population continues to grow between the year 2000 - 2016.\n",
    "We decided to normalize the data and look at the number of incidents per 100,000 people."
   ]
  },
  {
   "cell_type": "code",
   "execution_count": 492,
   "metadata": {
    "scrolled": true
   },
   "outputs": [
    {
     "data": {
      "text/html": [
       "<div>\n",
       "<table border=\"1\" class=\"dataframe\">\n",
       "  <thead>\n",
       "    <tr style=\"text-align: right;\">\n",
       "      <th></th>\n",
       "      <th>Year</th>\n",
       "      <th>Total Incidents</th>\n",
       "      <th>Total Incidents Per 100,000</th>\n",
       "    </tr>\n",
       "  </thead>\n",
       "  <tbody>\n",
       "    <tr>\n",
       "      <th>0</th>\n",
       "      <td>2000</td>\n",
       "      <td>11056.0</td>\n",
       "      <td>3.918311</td>\n",
       "    </tr>\n",
       "    <tr>\n",
       "      <th>1</th>\n",
       "      <td>2001</td>\n",
       "      <td>14151.0</td>\n",
       "      <td>4.965804</td>\n",
       "    </tr>\n",
       "    <tr>\n",
       "      <th>2</th>\n",
       "      <td>2002</td>\n",
       "      <td>15103.0</td>\n",
       "      <td>5.250931</td>\n",
       "    </tr>\n",
       "    <tr>\n",
       "      <th>3</th>\n",
       "      <td>2003</td>\n",
       "      <td>12505.0</td>\n",
       "      <td>4.310465</td>\n",
       "    </tr>\n",
       "    <tr>\n",
       "      <th>4</th>\n",
       "      <td>2004</td>\n",
       "      <td>18147.0</td>\n",
       "      <td>6.197634</td>\n",
       "    </tr>\n",
       "    <tr>\n",
       "      <th>5</th>\n",
       "      <td>2005</td>\n",
       "      <td>11487.0</td>\n",
       "      <td>3.887091</td>\n",
       "    </tr>\n",
       "    <tr>\n",
       "      <th>6</th>\n",
       "      <td>2006</td>\n",
       "      <td>17718.0</td>\n",
       "      <td>5.938067</td>\n",
       "    </tr>\n",
       "    <tr>\n",
       "      <th>7</th>\n",
       "      <td>2007</td>\n",
       "      <td>12633.0</td>\n",
       "      <td>4.193789</td>\n",
       "    </tr>\n",
       "    <tr>\n",
       "      <th>8</th>\n",
       "      <td>2008</td>\n",
       "      <td>14362.0</td>\n",
       "      <td>4.722882</td>\n",
       "    </tr>\n",
       "    <tr>\n",
       "      <th>9</th>\n",
       "      <td>2009</td>\n",
       "      <td>7214.0</td>\n",
       "      <td>2.351587</td>\n",
       "    </tr>\n",
       "    <tr>\n",
       "      <th>10</th>\n",
       "      <td>2010</td>\n",
       "      <td>9295.0</td>\n",
       "      <td>3.004705</td>\n",
       "    </tr>\n",
       "    <tr>\n",
       "      <th>11</th>\n",
       "      <td>2011</td>\n",
       "      <td>7856.0</td>\n",
       "      <td>2.520668</td>\n",
       "    </tr>\n",
       "    <tr>\n",
       "      <th>12</th>\n",
       "      <td>2012</td>\n",
       "      <td>8970.0</td>\n",
       "      <td>2.856703</td>\n",
       "    </tr>\n",
       "    <tr>\n",
       "      <th>13</th>\n",
       "      <td>2013</td>\n",
       "      <td>9529.0</td>\n",
       "      <td>3.013552</td>\n",
       "    </tr>\n",
       "    <tr>\n",
       "      <th>14</th>\n",
       "      <td>2014</td>\n",
       "      <td>10412.0</td>\n",
       "      <td>3.268423</td>\n",
       "    </tr>\n",
       "    <tr>\n",
       "      <th>15</th>\n",
       "      <td>2015</td>\n",
       "      <td>10653.0</td>\n",
       "      <td>3.319761</td>\n",
       "    </tr>\n",
       "    <tr>\n",
       "      <th>16</th>\n",
       "      <td>2016</td>\n",
       "      <td>10218.0</td>\n",
       "      <td>3.162219</td>\n",
       "    </tr>\n",
       "  </tbody>\n",
       "</table>\n",
       "</div>"
      ],
      "text/plain": [
       "    Year  Total Incidents  Total Incidents Per 100,000\n",
       "0   2000          11056.0                     3.918311\n",
       "1   2001          14151.0                     4.965804\n",
       "2   2002          15103.0                     5.250931\n",
       "3   2003          12505.0                     4.310465\n",
       "4   2004          18147.0                     6.197634\n",
       "5   2005          11487.0                     3.887091\n",
       "6   2006          17718.0                     5.938067\n",
       "7   2007          12633.0                     4.193789\n",
       "8   2008          14362.0                     4.722882\n",
       "9   2009           7214.0                     2.351587\n",
       "10  2010           9295.0                     3.004705\n",
       "11  2011           7856.0                     2.520668\n",
       "12  2012           8970.0                     2.856703\n",
       "13  2013           9529.0                     3.013552\n",
       "14  2014          10412.0                     3.268423\n",
       "15  2015          10653.0                     3.319761\n",
       "16  2016          10218.0                     3.162219"
      ]
     },
     "execution_count": 492,
     "metadata": {},
     "output_type": "execute_result"
    }
   ],
   "source": [
    "total['Total Incidents Per 100,000'] = 0\n",
    "for index,row in total.iterrows():\n",
    "    year = total.ix[index, 'Year']\n",
    "    totalIncidents = total.ix[index, 'Total Incidents']\n",
    "    pop = population.loc[population['Region'] == 'United States', str(year)]\n",
    "    pop = str(pop).replace(',','') #tidying data from US census to make it an integer\n",
    "    pattern = re.compile('\\d+\\s+(\\d+)') #utilizing regex to remove whitespace and unnecessary numbers\n",
    "    m =pattern.search(str(pop))\n",
    "    pop = int(m.group(1))\n",
    "    total.loc[total['Year'] == year, 'Total Incidents Per 100,000'] = totalIncidents/pop*100000\n",
    "    \n",
    "total"
   ]
  },
  {
   "cell_type": "markdown",
   "metadata": {},
   "source": [
    "Our final table now shows the number of serious food related illnesses that occured for every 100,000 U.S. citizens for each year. We can analyze this further by taking a regression, using year as a time-series explanatory variable and Total Incidents Per 100,000 for our response. We will calculate the regression score for the plot to decide which model to use."
   ]
  },
  {
   "cell_type": "markdown",
   "metadata": {},
   "source": [
    "We can measure the accuracy of our regression by looking at the R^2 value for the linear model. We can first look at the accuracy of the regression between Year and Total Incidents."
   ]
  },
  {
   "cell_type": "code",
   "execution_count": 493,
   "metadata": {},
   "outputs": [
    {
     "data": {
      "text/plain": [
       "0.31428929013578777"
      ]
     },
     "execution_count": 493,
     "metadata": {},
     "output_type": "execute_result"
    }
   ],
   "source": [
    "from sklearn import linear_model\n",
    "X = total['Year'].to_frame()\n",
    "Y = total['Total Incidents']\n",
    "reg = linear_model.LinearRegression()\n",
    "reg.fit(X, Y)\n",
    "reg.score(X, Y)"
   ]
  },
  {
   "cell_type": "markdown",
   "metadata": {},
   "source": [
    "The R^2 of .3143 shows that our explanatory variable is not very accurate when explaining the response. When we look at the regression comparing Year to Total Incidents per 100,000 citizens, it should be more accurate since we considered population growth."
   ]
  },
  {
   "cell_type": "code",
   "execution_count": 494,
   "metadata": {},
   "outputs": [
    {
     "data": {
      "text/plain": [
       "0.42467046609126297"
      ]
     },
     "execution_count": 494,
     "metadata": {},
     "output_type": "execute_result"
    }
   ],
   "source": [
    "X = total['Year'].to_frame()\n",
    "Y = total['Total Incidents Per 100,000']\n",
    "reg = linear_model.LinearRegression()\n",
    "reg.fit(X, Y)\n",
    "reg.score(X, Y)"
   ]
  },
  {
   "cell_type": "markdown",
   "metadata": {},
   "source": [
    "The new R^2 of .4247 is still not very accurate, but is much better than our previous score of .2848. Although imperfect, this means that our regression improved once we took into account population within our data. We will use this model for our graph."
   ]
  },
  {
   "cell_type": "code",
   "execution_count": 495,
   "metadata": {},
   "outputs": [
    {
     "data": {
      "text/plain": [
       "<seaborn.axisgrid.FacetGrid at 0x7f52eaa73198>"
      ]
     },
     "execution_count": 495,
     "metadata": {},
     "output_type": "execute_result"
    },
    {
     "data": {
      "image/png": "[encoded data removed]",
      "text/plain": [
       "<matplotlib.figure.Figure at 0x7f52eaa73860>"
      ]
     },
     "metadata": {},
     "output_type": "display_data"
    }
   ],
   "source": [
    "sns.lmplot(x='Year', y='Total Incidents Per 100,000',data=total,fit_reg=True)"
   ]
  },
  {
   "cell_type": "markdown",
   "metadata": {},
   "source": [
    "We can see a general trend in the graph. The number of food related illnesses in the United States is slowly decreasing. Advances in technology as well as food safety regulations are the likely cause of this. New laws are being made to promote citizen welfare. Outbreaks such as Chipotle's 2008 food scare also showed that a company's food poisoning incidents would lead to loss of customers and investors. Companies likely became more stricter when it came to food sanitation after these events."
   ]
  },
  {
   "cell_type": "markdown",
   "metadata": {},
   "source": [
    "Now, let's look at each state and compare the # of incidents over time."
   ]
  },
  {
   "cell_type": "code",
   "execution_count": 496,
   "metadata": {},
   "outputs": [
    {
     "data": {
      "text/html": [
       "<div>\n",
       "<table border=\"1\" class=\"dataframe\">\n",
       "  <thead>\n",
       "    <tr style=\"text-align: right;\">\n",
       "      <th></th>\n",
       "      <th>State</th>\n",
       "      <th>Total Incidents</th>\n",
       "    </tr>\n",
       "  </thead>\n",
       "  <tbody>\n",
       "    <tr>\n",
       "      <th>7</th>\n",
       "      <td>Delaware</td>\n",
       "      <td>126.0</td>\n",
       "    </tr>\n",
       "    <tr>\n",
       "      <th>25</th>\n",
       "      <td>Montana</td>\n",
       "      <td>201.0</td>\n",
       "    </tr>\n",
       "    <tr>\n",
       "      <th>45</th>\n",
       "      <td>Vermont</td>\n",
       "      <td>241.0</td>\n",
       "    </tr>\n",
       "    <tr>\n",
       "      <th>48</th>\n",
       "      <td>Washington DC</td>\n",
       "      <td>286.0</td>\n",
       "    </tr>\n",
       "    <tr>\n",
       "      <th>26</th>\n",
       "      <td>Nebraska</td>\n",
       "      <td>366.0</td>\n",
       "    </tr>\n",
       "    <tr>\n",
       "      <th>38</th>\n",
       "      <td>Puerto Rico</td>\n",
       "      <td>381.0</td>\n",
       "    </tr>\n",
       "    <tr>\n",
       "      <th>49</th>\n",
       "      <td>West Virginia</td>\n",
       "      <td>436.0</td>\n",
       "    </tr>\n",
       "    <tr>\n",
       "      <th>41</th>\n",
       "      <td>South Dakota</td>\n",
       "      <td>595.0</td>\n",
       "    </tr>\n",
       "    <tr>\n",
       "      <th>18</th>\n",
       "      <td>Maine</td>\n",
       "      <td>618.0</td>\n",
       "    </tr>\n",
       "    <tr>\n",
       "      <th>39</th>\n",
       "      <td>Rhode Island</td>\n",
       "      <td>621.0</td>\n",
       "    </tr>\n",
       "    <tr>\n",
       "      <th>16</th>\n",
       "      <td>Kentucky</td>\n",
       "      <td>633.0</td>\n",
       "    </tr>\n",
       "    <tr>\n",
       "      <th>1</th>\n",
       "      <td>Alaska</td>\n",
       "      <td>757.0</td>\n",
       "    </tr>\n",
       "    <tr>\n",
       "      <th>30</th>\n",
       "      <td>New Mexico</td>\n",
       "      <td>880.0</td>\n",
       "    </tr>\n",
       "    <tr>\n",
       "      <th>23</th>\n",
       "      <td>Mississippi</td>\n",
       "      <td>1033.0</td>\n",
       "    </tr>\n",
       "    <tr>\n",
       "      <th>44</th>\n",
       "      <td>Utah</td>\n",
       "      <td>1090.0</td>\n",
       "    </tr>\n",
       "    <tr>\n",
       "      <th>3</th>\n",
       "      <td>Arkansas</td>\n",
       "      <td>1147.0</td>\n",
       "    </tr>\n",
       "    <tr>\n",
       "      <th>28</th>\n",
       "      <td>New Hampshire</td>\n",
       "      <td>1151.0</td>\n",
       "    </tr>\n",
       "    <tr>\n",
       "      <th>24</th>\n",
       "      <td>Missouri</td>\n",
       "      <td>1180.0</td>\n",
       "    </tr>\n",
       "    <tr>\n",
       "      <th>51</th>\n",
       "      <td>Wyoming</td>\n",
       "      <td>1183.0</td>\n",
       "    </tr>\n",
       "    <tr>\n",
       "      <th>0</th>\n",
       "      <td>Alabama</td>\n",
       "      <td>1262.0</td>\n",
       "    </tr>\n",
       "    <tr>\n",
       "      <th>33</th>\n",
       "      <td>North Dakota</td>\n",
       "      <td>1315.0</td>\n",
       "    </tr>\n",
       "    <tr>\n",
       "      <th>11</th>\n",
       "      <td>Idaho</td>\n",
       "      <td>1345.0</td>\n",
       "    </tr>\n",
       "    <tr>\n",
       "      <th>35</th>\n",
       "      <td>Oklahoma</td>\n",
       "      <td>1554.0</td>\n",
       "    </tr>\n",
       "    <tr>\n",
       "      <th>29</th>\n",
       "      <td>New Jersey</td>\n",
       "      <td>1617.0</td>\n",
       "    </tr>\n",
       "    <tr>\n",
       "      <th>13</th>\n",
       "      <td>Indiana</td>\n",
       "      <td>1758.0</td>\n",
       "    </tr>\n",
       "    <tr>\n",
       "      <th>17</th>\n",
       "      <td>Louisiana</td>\n",
       "      <td>2034.0</td>\n",
       "    </tr>\n",
       "    <tr>\n",
       "      <th>27</th>\n",
       "      <td>Nevada</td>\n",
       "      <td>2252.0</td>\n",
       "    </tr>\n",
       "    <tr>\n",
       "      <th>10</th>\n",
       "      <td>Hawaii</td>\n",
       "      <td>2390.0</td>\n",
       "    </tr>\n",
       "    <tr>\n",
       "      <th>14</th>\n",
       "      <td>Iowa</td>\n",
       "      <td>3112.0</td>\n",
       "    </tr>\n",
       "    <tr>\n",
       "      <th>20</th>\n",
       "      <td>Massachusetts</td>\n",
       "      <td>3263.0</td>\n",
       "    </tr>\n",
       "    <tr>\n",
       "      <th>2</th>\n",
       "      <td>Arizona</td>\n",
       "      <td>3437.0</td>\n",
       "    </tr>\n",
       "    <tr>\n",
       "      <th>6</th>\n",
       "      <td>Connecticut</td>\n",
       "      <td>3540.0</td>\n",
       "    </tr>\n",
       "    <tr>\n",
       "      <th>15</th>\n",
       "      <td>Kansas</td>\n",
       "      <td>3744.0</td>\n",
       "    </tr>\n",
       "    <tr>\n",
       "      <th>32</th>\n",
       "      <td>North Carolina</td>\n",
       "      <td>3755.0</td>\n",
       "    </tr>\n",
       "    <tr>\n",
       "      <th>40</th>\n",
       "      <td>South Carolina</td>\n",
       "      <td>4243.0</td>\n",
       "    </tr>\n",
       "    <tr>\n",
       "      <th>43</th>\n",
       "      <td>Texas</td>\n",
       "      <td>4289.0</td>\n",
       "    </tr>\n",
       "    <tr>\n",
       "      <th>19</th>\n",
       "      <td>Maryland</td>\n",
       "      <td>4494.0</td>\n",
       "    </tr>\n",
       "    <tr>\n",
       "      <th>46</th>\n",
       "      <td>Virginia</td>\n",
       "      <td>4736.0</td>\n",
       "    </tr>\n",
       "    <tr>\n",
       "      <th>5</th>\n",
       "      <td>Colorado</td>\n",
       "      <td>6043.0</td>\n",
       "    </tr>\n",
       "    <tr>\n",
       "      <th>42</th>\n",
       "      <td>Tennessee</td>\n",
       "      <td>6197.0</td>\n",
       "    </tr>\n",
       "    <tr>\n",
       "      <th>36</th>\n",
       "      <td>Oregon</td>\n",
       "      <td>6276.0</td>\n",
       "    </tr>\n",
       "    <tr>\n",
       "      <th>47</th>\n",
       "      <td>Washington</td>\n",
       "      <td>6316.0</td>\n",
       "    </tr>\n",
       "    <tr>\n",
       "      <th>9</th>\n",
       "      <td>Georgia</td>\n",
       "      <td>6985.0</td>\n",
       "    </tr>\n",
       "    <tr>\n",
       "      <th>37</th>\n",
       "      <td>Pennsylvania</td>\n",
       "      <td>7063.0</td>\n",
       "    </tr>\n",
       "    <tr>\n",
       "      <th>50</th>\n",
       "      <td>Wisconsin</td>\n",
       "      <td>7918.0</td>\n",
       "    </tr>\n",
       "    <tr>\n",
       "      <th>8</th>\n",
       "      <td>Florida</td>\n",
       "      <td>8075.0</td>\n",
       "    </tr>\n",
       "    <tr>\n",
       "      <th>31</th>\n",
       "      <td>New York</td>\n",
       "      <td>8089.0</td>\n",
       "    </tr>\n",
       "    <tr>\n",
       "      <th>21</th>\n",
       "      <td>Michigan</td>\n",
       "      <td>8315.0</td>\n",
       "    </tr>\n",
       "    <tr>\n",
       "      <th>34</th>\n",
       "      <td>Ohio</td>\n",
       "      <td>11663.0</td>\n",
       "    </tr>\n",
       "    <tr>\n",
       "      <th>22</th>\n",
       "      <td>Minnesota</td>\n",
       "      <td>12038.0</td>\n",
       "    </tr>\n",
       "    <tr>\n",
       "      <th>12</th>\n",
       "      <td>Illinois</td>\n",
       "      <td>15461.0</td>\n",
       "    </tr>\n",
       "    <tr>\n",
       "      <th>4</th>\n",
       "      <td>California</td>\n",
       "      <td>23805.0</td>\n",
       "    </tr>\n",
       "  </tbody>\n",
       "</table>\n",
       "</div>"
      ],
      "text/plain": [
       "             State  Total Incidents\n",
       "7         Delaware            126.0\n",
       "25         Montana            201.0\n",
       "45         Vermont            241.0\n",
       "48   Washington DC            286.0\n",
       "26        Nebraska            366.0\n",
       "38     Puerto Rico            381.0\n",
       "49   West Virginia            436.0\n",
       "41    South Dakota            595.0\n",
       "18           Maine            618.0\n",
       "39    Rhode Island            621.0\n",
       "16        Kentucky            633.0\n",
       "1           Alaska            757.0\n",
       "30      New Mexico            880.0\n",
       "23     Mississippi           1033.0\n",
       "44            Utah           1090.0\n",
       "3         Arkansas           1147.0\n",
       "28   New Hampshire           1151.0\n",
       "24        Missouri           1180.0\n",
       "51         Wyoming           1183.0\n",
       "0          Alabama           1262.0\n",
       "33    North Dakota           1315.0\n",
       "11           Idaho           1345.0\n",
       "35        Oklahoma           1554.0\n",
       "29      New Jersey           1617.0\n",
       "13         Indiana           1758.0\n",
       "17       Louisiana           2034.0\n",
       "27          Nevada           2252.0\n",
       "10          Hawaii           2390.0\n",
       "14            Iowa           3112.0\n",
       "20   Massachusetts           3263.0\n",
       "2          Arizona           3437.0\n",
       "6      Connecticut           3540.0\n",
       "15          Kansas           3744.0\n",
       "32  North Carolina           3755.0\n",
       "40  South Carolina           4243.0\n",
       "43           Texas           4289.0\n",
       "19        Maryland           4494.0\n",
       "46        Virginia           4736.0\n",
       "5         Colorado           6043.0\n",
       "42       Tennessee           6197.0\n",
       "36          Oregon           6276.0\n",
       "47      Washington           6316.0\n",
       "9          Georgia           6985.0\n",
       "37    Pennsylvania           7063.0\n",
       "50       Wisconsin           7918.0\n",
       "8          Florida           8075.0\n",
       "31        New York           8089.0\n",
       "21        Michigan           8315.0\n",
       "34            Ohio          11663.0\n",
       "22       Minnesota          12038.0\n",
       "12        Illinois          15461.0\n",
       "4       California          23805.0"
      ]
     },
     "execution_count": 496,
     "metadata": {},
     "output_type": "execute_result"
    }
   ],
   "source": [
    "states = np.sort(food['State'].unique())\n",
    "total_by_state = pd.DataFrame(columns = ['State', 'Total Incidents'])\n",
    "total_by_state['State'] = states\n",
    "total_by_state['Total Incidents'] = 0\n",
    "for index,row in df.iterrows():\n",
    "    s = df.ix[index, 'State']\n",
    "    totalIncidents = df.ix[index, 'Total Incidents']\n",
    "    total_by_state.loc[total_by_state['State'] == s, 'Total Incidents'] += totalIncidents\n",
    "\n",
    "total_by_state = total_by_state.sort_values(['Total Incidents'])\n",
    "total_by_state"
   ]
  },
  {
   "cell_type": "markdown",
   "metadata": {},
   "source": [
    "Again, we need to normalize our data and account for state population."
   ]
  },
  {
   "cell_type": "code",
   "execution_count": 497,
   "metadata": {},
   "outputs": [
    {
     "data": {
      "text/html": [
       "<div>\n",
       "<table border=\"1\" class=\"dataframe\">\n",
       "  <thead>\n",
       "    <tr style=\"text-align: right;\">\n",
       "      <th></th>\n",
       "      <th>State</th>\n",
       "      <th>Total Incidents</th>\n",
       "      <th>Total Incidents Normalized</th>\n",
       "    </tr>\n",
       "  </thead>\n",
       "  <tbody>\n",
       "    <tr>\n",
       "      <th>48</th>\n",
       "      <td>Washington DC</td>\n",
       "      <td>286.0</td>\n",
       "      <td>73096.412996</td>\n",
       "    </tr>\n",
       "    <tr>\n",
       "      <th>22</th>\n",
       "      <td>Minnesota</td>\n",
       "      <td>12038.0</td>\n",
       "      <td>136428.160215</td>\n",
       "    </tr>\n",
       "    <tr>\n",
       "      <th>25</th>\n",
       "      <td>Montana</td>\n",
       "      <td>201.0</td>\n",
       "      <td>235974.387540</td>\n",
       "    </tr>\n",
       "    <tr>\n",
       "      <th>50</th>\n",
       "      <td>Wisconsin</td>\n",
       "      <td>7918.0</td>\n",
       "      <td>261860.269083</td>\n",
       "    </tr>\n",
       "    <tr>\n",
       "      <th>36</th>\n",
       "      <td>Oregon</td>\n",
       "      <td>6276.0</td>\n",
       "      <td>273273.353067</td>\n",
       "    </tr>\n",
       "  </tbody>\n",
       "</table>\n",
       "</div>"
      ],
      "text/plain": [
       "            State  Total Incidents  Total Incidents Normalized\n",
       "48  Washington DC            286.0                73096.412996\n",
       "22      Minnesota          12038.0               136428.160215\n",
       "25        Montana            201.0               235974.387540\n",
       "50      Wisconsin           7918.0               261860.269083\n",
       "36         Oregon           6276.0               273273.353067"
      ]
     },
     "execution_count": 497,
     "metadata": {},
     "output_type": "execute_result"
    }
   ],
   "source": [
    "total_by_state['Total Incidents Normalized'] = 0\n",
    "for index,row in df.iterrows():\n",
    "    s = df.ix[index, 'State']\n",
    "    totalIncidentsNorm = df.ix[index, 'Total Incidents Normalized']\n",
    "    total_by_state.loc[total_by_state['State'] == s, 'Total Incidents Normalized'] += totalIncidentsNorm\n",
    "\n",
    "total_by_state = total_by_state.sort_values(['Total Incidents Normalized'])\n",
    "total_by_state.head()"
   ]
  },
  {
   "cell_type": "markdown",
   "metadata": {},
   "source": [
    "We sorted the table by the normalized number of incidents, which is interpreted as \"There will be one serious food related illness for every X population\". We can see from the graph that Washington DC had the least safe food conditions with an illness occurring for every 81,388 residents. Indiana on the other hand, had the best conditions with an illness only occurring for every 4,161,087 residents."
   ]
  },
  {
   "cell_type": "markdown",
   "metadata": {},
   "source": [
    "<font size=\"3\"><a href='#toC'>To Table of Contents</a></font>"
   ]
  },
  {
   "cell_type": "markdown",
   "metadata": {},
   "source": [
    "<a id='choropleth'></a>\n",
    "## Choropleth Map"
   ]
  },
  {
   "cell_type": "markdown",
   "metadata": {},
   "source": [
    "After compiling the total incidents per state, we sought to visualize our data with a Choropleth, which allowed us to see which states had the highest amount of incidents."
   ]
  },
  {
   "cell_type": "code",
   "execution_count": 498,
   "metadata": {},
   "outputs": [
    {
     "data": {
      "text/html": [
       "<div>\n",
       "<table border=\"1\" class=\"dataframe\">\n",
       "  <thead>\n",
       "    <tr style=\"text-align: right;\">\n",
       "      <th></th>\n",
       "      <th>name</th>\n",
       "      <th>total</th>\n",
       "      <th>Total Incidents</th>\n",
       "    </tr>\n",
       "  </thead>\n",
       "  <tbody>\n",
       "    <tr>\n",
       "      <th>16</th>\n",
       "      <td>Alabama</td>\n",
       "      <td>14474.107143</td>\n",
       "      <td>336.0</td>\n",
       "    </tr>\n",
       "    <tr>\n",
       "      <th>33</th>\n",
       "      <td>Alaska</td>\n",
       "      <td>19022.923077</td>\n",
       "      <td>39.0</td>\n",
       "    </tr>\n",
       "    <tr>\n",
       "      <th>50</th>\n",
       "      <td>Arizona</td>\n",
       "      <td>68624.465347</td>\n",
       "      <td>101.0</td>\n",
       "    </tr>\n",
       "    <tr>\n",
       "      <th>67</th>\n",
       "      <td>Arkansas</td>\n",
       "      <td>0.000000</td>\n",
       "      <td>0.0</td>\n",
       "    </tr>\n",
       "    <tr>\n",
       "      <th>84</th>\n",
       "      <td>California</td>\n",
       "      <td>52543.530120</td>\n",
       "      <td>747.0</td>\n",
       "    </tr>\n",
       "  </tbody>\n",
       "</table>\n",
       "</div>"
      ],
      "text/plain": [
       "          name         total  Total Incidents\n",
       "16     Alabama  14474.107143            336.0\n",
       "33      Alaska  19022.923077             39.0\n",
       "50     Arizona  68624.465347            101.0\n",
       "67    Arkansas      0.000000              0.0\n",
       "84  California  52543.530120            747.0"
      ]
     },
     "execution_count": 498,
     "metadata": {},
     "output_type": "execute_result"
    }
   ],
   "source": [
    "#isolating incidents to the most recent year\n",
    "most_recent_year_df = df[df['Year'] == 2016]\n",
    "#choosing the fields that are most relevant to the choropleth\n",
    "most_recent_year_df = most_recent_year_df[['State','Total Incidents Normalized','Total Incidents']]\n",
    "most_recent_year_list = most_recent_year_df.values.tolist()\n",
    "\n",
    "#Setting names to each of the columns\n",
    "most_recent_year_df.columns = ['name','total','Total Incidents']\n",
    "most_recent_year_df.head()"
   ]
  },
  {
   "cell_type": "markdown",
   "metadata": {},
   "source": [
    "\n",
    "<b><font size=\"5\" color=\"black\">Folium Map</font></b>\n",
    "<ol type=\"1\">\n",
    "    <li>Imported a GeoJSON file that outlined the boundaries of each of the United States</li>\n",
    "    <li>Imported a GeoJSON file that had a record of each state's latitude and longitude values for each marker to be placed</li>\n",
    "    <li>Parsed each relevant GeoJSON file and plotted a Choropleth using Folium</li>\n",
    "    <li>Plotted each state's marker and added pertaining information such as total incidents per state.</li>\n",
    "\n",
    "</ol>"
   ]
  },
  {
   "cell_type": "code",
   "execution_count": 499,
   "metadata": {
    "scrolled": true
   },
   "outputs": [
    {
     "data": {
      "text/html": [
       "<div style=\"width:100%;\"><div style=\"position:relative;width:100%;height:0;padding-bottom:60%;\"><iframe src=\"data:text/html;charset=utf-8;base64,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\" style=\"position:absolute;width:100%;height:100%;left:0;top:0;border:none !important;\" allowfullscreen webkitallowfullscreen mozallowfullscreen></iframe></div></div>"
      ],
      "text/plain": [
       "<folium.folium.Map at 0x7f52ea88e080>"
      ]
     },
     "execution_count": 499,
     "metadata": {},
     "output_type": "execute_result"
    }
   ],
   "source": [
    "import folium\n",
    "import json\n",
    "from folium.features import CustomIcon\n",
    "map_osm = folium.Map(location=[39.8283, -98.5795],zoom_start = 4.25)\n",
    "\n",
    "#importing each of the GEOjson files\n",
    "all_states = json.load(open('us-states.json'))\n",
    "lat_long = pd.read_json(open('USstates_avg_latlong.json'))\n",
    "#img = Image.open('ramen.png')\n",
    "#url = 'https://chochosansushi.files.wordpress.com/2016/02/{}'.format\n",
    "#icon_image = url('miso-ramen-no-background.png')\n",
    "#shadow_image = url('leaf-shadow.png')\n",
    "\n",
    "\n",
    "\n",
    "#iterating over each state\n",
    "for state in most_recent_year_df['name'].unique():\n",
    "    #extracting the latitude and longitutde of each state\n",
    "    lat = lat_long[lat_long['state'] == state]['latitude']\n",
    "    lon = lat_long[lat_long['state'] == state]['longitude']\n",
    "    #excludes puerto rico due to lack of data\n",
    "    if(len(lat) != 0):\n",
    "        #adding a custom icon to each marker\n",
    "        url = 'http://www.asahicom.jp/special/tsukiji/images/tuna-prologue/{}'.format\n",
    "        icon_image = url('kuromaguro.png')\n",
    "\n",
    "        icon = CustomIcon(\n",
    "        icon_image,\n",
    "        icon_size=(38, 95),\n",
    "        icon_anchor=(22, 94),\n",
    "        #shadow_image=shadow_image,\n",
    "        #shadow_size=(50, 64),\n",
    "        #shadow_anchor=(4, 62),\n",
    "        #popup_anchor=(-3, -76)\n",
    "        )\n",
    "        #calculating the total number of incidents in that state in 2016\n",
    "        total = ((df.loc[(df['State'] == state)  & (df['Year'] == 2016), 'Total Incidents']).values[0])\n",
    "        popup = '<i>'+str(state)+'</i>' + '<br>Total Incidents: '+str(total)+'</br>'\n",
    "        #plotting the marker\n",
    "        marker =  folium.Marker(location = [lat.values[0],lon.values[0]],icon=icon,popup=popup)\n",
    "        map_osm.add_child(marker)    \n",
    "        \n",
    "#plotting the choorpleth\n",
    "map_osm.choropleth(\n",
    "    geo_data =all_states,\n",
    "    data = most_recent_year_df,name='choropleth',key_on = 'feature.properties.name',\n",
    "    columns = ['name', 'Total Incidents'],fill_color = 'YlGn',\n",
    "    legend_name =\"Number of Incidents in 2016 (Normalized to 100,000 people)\"\n",
    ")\n",
    "\n",
    "#displaying\n",
    "folium.LayerControl().add_to(map_osm)\n",
    "map_osm"
   ]
  },
  {
   "cell_type": "markdown",
   "metadata": {},
   "source": [
    "<font size=\"3\"><a href='#toC'>To Table of Contents</a></font>"
   ]
  },
  {
   "cell_type": "markdown",
   "metadata": {},
   "source": [
    "<a id='conclusion'></a>\n",
    "## Conclusion"
   ]
  },
  {
   "cell_type": "markdown",
   "metadata": {},
   "source": [
    "We sorted the table by the normalized number of incidents, which is interpreted as \"There will be one serious food related illness for every X population\". We can see from the graph that Washington DC had the least safe food conditions with an illness occurring for every 81,388 residents. Texax on the other hand, had the best conditions with an illness only occurring for every 4,393,464 residents.\n",
    "\n",
    "According to our data, the five areas with the highest chance of food poisoning are Washington D.C., Minnesota, Montana, Wisconsin, and Oregon. The five areas with the lowest chance are Indiana, Texas, North Carolina, Alabama, and Missouri. This is based off the number of incidents that have occurred between 2000 to 2016, and is normalized with population data from the census from this time period as well. If you're a germaphobe that happens to be a foodie, you should be extra cautious when eating in states with a high likelihood of food poisoning. It's also important to note that this set of data is taken from a specific time range. Changes in food safety regulations in the future will impact the reliability of our data set. In general, food poisoning incidents have been decreasing over time according to our regression model. In recent years our model estimates that only 3 out of 100,000 citizens contract a serious illness from eating food. So in the end, you really don't need be that concerned when eating a dish at your favorite restaurant. Still, the CDC estimates that approximately 48 million people get sick as a result of foodborne illnesses each year. Our data likely doesn't record less serious incidents where infected individuals don't report to a hospital. You are also still likely to contract a disease from interacting with infected individuals or food ingredients without eating them. Remember to wash your hands and always be safe 😀"
   ]
  },
  {
   "cell_type": "markdown",
   "metadata": {},
   "source": [
    "<font size=\"3\"><a href='#toC'>To Table of Contents</a></font>"
   ]
  },
  {
   "cell_type": "markdown",
   "metadata": {},
   "source": [
    "<a id='sources'></a>\n",
    "## Closing & Sources"
   ]
  },
  {
   "cell_type": "markdown",
   "metadata": {},
   "source": [
    "Thank you for reading our tutorial! This tutorial covers basic ways to interact with data and present findings in multiple ways. There are many reasons that can explain the health changes, and even more ways to present your findings.\n",
    "\n",
    "If you would like to do more research below and try it out yourself, these links will help!\n",
    "\n",
    "<ul type=\"1\">\n",
    "    <li><a href='https://en.wikipedia.org/wiki/Disease_burden'>Disease burden</a></li>\n",
    "    <li><a href='http://www.businessinsider.com/food-poisoning-expert-on-why-chipotles-dealing-with-nightmare-2017-7'>Chipotle Scandal</a></li>\n",
    "    <li><a href='https://en.wikipedia.org/wiki/List_of_foodborne_illness_outbreaks_in_the_United_States'>List of Foodborne Illness Outbreaks</a></li>\n",
    "    <li><a href='https://www.cdc.gov/winnablebattles/foodsafety/pdf/Trends_in_Foodborne_Illness.pdf'>Trends in Foodborne Illness</a></li>\n",
    "    <li><a href='https://github.com/python-visualization/folium'>Folium</a></li>\n",
    "    <li><a href='http://scikit-learn.org/stable/tutorial/basic/tutorial.html'>Scikit-learn</a></li>\n",
    "    <li><a href='http://pandas.pydata.org/pandas-docs/stable/'>Pandas</a></li>\n",
    "    <li><a href='https://matplotlib.org/api/pyplot_summary.html#the-pyplot-api'>Matplotlib</a></li>\n",
    "</ul>\n"
   ]
  },
  {
   "cell_type": "markdown",
   "metadata": {},
   "source": [
    "<font size=\"3\"><a href='#toC'>To Table of Contents</a></font>"
   ]
  },
  {
   "cell_type": "code",
   "execution_count": null,
   "metadata": {
    "collapsed": true
   },
   "outputs": [],
   "source": []
  }
 ],
 "metadata": {
  "kernelspec": {
   "display_name": "Python 3",
   "language": "python",
   "name": "python3"
  },
  "language_info": {
   "codemirror_mode": {
    "name": "ipython",
    "version": 3
   },
   "file_extension": ".py",
   "mimetype": "text/x-python",
   "name": "python",
   "nbconvert_exporter": "python",
   "pygments_lexer": "ipython3",
   "version": "3.6.2"
  }
 },
 "nbformat": 4,
 "nbformat_minor": 2
}
